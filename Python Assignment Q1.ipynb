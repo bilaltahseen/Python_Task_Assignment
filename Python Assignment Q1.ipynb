{
 "cells": [
  {
   "cell_type": "markdown",
   "metadata": {},
   "source": [
    "# Calculate Area of a Circle"
   ]
  },
  {
   "cell_type": "code",
   "execution_count": 26,
   "metadata": {},
   "outputs": [
    {
     "name": "stdout",
     "output_type": "stream",
     "text": [
      "Enter Radians0.5\n",
      "Area of Circle with radius0.5is0.78525\n"
     ]
    }
   ],
   "source": [
    "radius = float(input(\"Enter Radians\"))\n",
    "area = radius**2 * 3.141\n",
    "print(\"Area of Circle with radius\"+str(radius)+\"is\"+str(area))"
   ]
  },
  {
   "cell_type": "markdown",
   "metadata": {},
   "source": [
    "# Check Number either positive, negative or zero"
   ]
  },
  {
   "cell_type": "code",
   "execution_count": 33,
   "metadata": {},
   "outputs": [
    {
     "name": "stdout",
     "output_type": "stream",
     "text": [
      "Enter Number3\n",
      "Positive Number\n"
     ]
    }
   ],
   "source": [
    "num = int(input(\"Enter Number\"))\n",
    "\n",
    "if num < 0:\n",
    "    print(\"Negative Number\")\n",
    "elif num > 0:\n",
    "    print(\"Positive Number\")\n",
    "else:\n",
    "    print(\"Zero Number\")"
   ]
  },
  {
   "cell_type": "markdown",
   "metadata": {},
   "source": [
    "# Divisibility Check of two numbers "
   ]
  },
  {
   "cell_type": "code",
   "execution_count": 50,
   "metadata": {},
   "outputs": [
    {
     "name": "stdout",
     "output_type": "stream",
     "text": [
      "Enter Numerator4\n",
      "Enter denomenator2\n",
      "Numerator4is Completely divisible by2\n"
     ]
    }
   ],
   "source": [
    "numerator = input(\"Enter Numerator\")\n",
    "denomenator = input(\"Enter denomenator\")\n",
    "print(\"Numerator\" + numerator + \"is Completely divisible by\" + denomenator) if int(numerator)%int(denomenator) == 0 else print(\"Numerator\" + numerator + \"is not Completely divisible by\" + denomenator) "
   ]
  },
  {
   "cell_type": "markdown",
   "metadata": {},
   "source": [
    "# Days Calculator "
   ]
  },
  {
   "cell_type": "code",
   "execution_count": 35,
   "metadata": {},
   "outputs": [
    {
     "name": "stdout",
     "output_type": "stream",
     "text": [
      "Enter Starting Date13/06/2019\n",
      "Enter Ending Date9/07/2019\n",
      "26 days, 0:00:00\n"
     ]
    }
   ],
   "source": [
    "from datetime import datetime\n",
    "in_date = input(\"Enter Starting Date\")\n",
    "fin_date = input(\"Enter Ending Date\")\n",
    "delta = datetime.strptime(fin_date.replace('/',' '),'%d %m %Y')-datetime.strptime(in_date.replace('/',' '),'%d %m %Y')\n",
    "print(delta)"
   ]
  },
  {
   "cell_type": "markdown",
   "metadata": {},
   "source": [
    "# Calculate Volume of a sphere"
   ]
  },
  {
   "cell_type": "code",
   "execution_count": 30,
   "metadata": {},
   "outputs": [
    {
     "name": "stdout",
     "output_type": "stream",
     "text": [
      "Enter Radius of the Sphere0.5\n",
      "0.5235987756666667\n"
     ]
    }
   ],
   "source": [
    "radius_sphere = float(input(\"Enter Radius of the Sphere\"))\n",
    "vol_sphere = (4/3)*3.141592654*radius_sphere**3\n",
    "print(vol_sphere)\n"
   ]
  },
  {
   "cell_type": "markdown",
   "metadata": {},
   "source": [
    "# Copy string n times"
   ]
  },
  {
   "cell_type": "code",
   "execution_count": 41,
   "metadata": {},
   "outputs": [
    {
     "name": "stdout",
     "output_type": "stream",
     "text": [
      "Enter string you want to make copy ofBilal\n",
      "Enter how many times10\n",
      "1Bilal\n",
      "2Bilal\n",
      "3Bilal\n",
      "4Bilal\n",
      "5Bilal\n",
      "6Bilal\n",
      "7Bilal\n",
      "8Bilal\n",
      "9Bilal\n",
      "10Bilal\n"
     ]
    }
   ],
   "source": [
    "str_inp = input(\"Enter string you want to make copy of\")\n",
    "times = int(input(\"Enter how many times\"))\n",
    "for i in range(times):\n",
    "    print(str(i+1) + str_inp)"
   ]
  },
  {
   "cell_type": "markdown",
   "metadata": {},
   "source": [
    "# Check if number is Even or Odd "
   ]
  },
  {
   "cell_type": "code",
   "execution_count": 43,
   "metadata": {},
   "outputs": [
    {
     "name": "stdout",
     "output_type": "stream",
     "text": [
      "Enter Number19\n",
      "Odd\n"
     ]
    }
   ],
   "source": [
    "number = int(input(\"Enter Number\"))\n",
    "\n",
    "if number % 2 == 0:\n",
    "    print(\"Even\")\n",
    "else:\n",
    "    print(\"Odd\")"
   ]
  },
  {
   "cell_type": "markdown",
   "metadata": {},
   "source": [
    "# Vowel Tester"
   ]
  },
  {
   "cell_type": "code",
   "execution_count": 117,
   "metadata": {},
   "outputs": [
    {
     "name": "stdout",
     "output_type": "stream",
     "text": [
      "Enter CharacterM\n",
      "M is not a vowel\n"
     ]
    }
   ],
   "source": [
    "vowels = ['a','A','e','E','i','I','o','O','u','U']\n",
    "char = input(\"Enter Character\")\n",
    "\n",
    "if char in vowels:\n",
    "    print(\"%s is a vowel\"% char)\n",
    "else:\n",
    "    print(\"%s is not a vowel\"% char)\n",
    "\n",
    "    \n",
    "    \n",
    "    \n",
    "        "
   ]
  },
  {
   "cell_type": "markdown",
   "metadata": {},
   "source": [
    "# Triangle area "
   ]
  },
  {
   "cell_type": "code",
   "execution_count": 4,
   "metadata": {},
   "outputs": [
    {
     "name": "stdout",
     "output_type": "stream",
     "text": [
      "Enter magnitude of Triangle Height0.4\n",
      "Enter magnitude of Triangle Base2\n",
      "Area of a Triangle with Height 0.4 and Base 2.0 is 0.4\n"
     ]
    }
   ],
   "source": [
    "tri_height = float(input(\"Enter magnitude of Triangle Height\"))\n",
    "tri_base = float(input(\"Enter magnitude of Triangle Base\"))\n",
    "print(\"Area of a Triangle with Height \"+ str(tri_height) + \" and Base \" + str(tri_base) + \" is \" + str(float((tri_height*tri_base)/2)) )"
   ]
  },
  {
   "cell_type": "markdown",
   "metadata": {},
   "source": [
    "# Calculate Interest "
   ]
  },
  {
   "cell_type": "code",
   "execution_count": 5,
   "metadata": {},
   "outputs": [
    {
     "name": "stdout",
     "output_type": "stream",
     "text": [
      "Enter Principal Amount10000\n",
      "Enter Rate of Intrest0.1\n",
      "Enter Number of Year5\n",
      "After5.0years your principal amount10000.0over an interest rate of0.1will be10050.0\n"
     ]
    }
   ],
   "source": [
    "data_inp = [float(input(\"Enter Principal Amount\")),float(input(\"Enter Rate of Intrest\")),float(input(\"Enter Number of Year\"))]\n",
    "p_total_fut = data_inp[0]*(data_inp[1])/100*data_inp[2]\n",
    "print(\"After\" + str(data_inp[2])+ \"years your principal amount\" + str(data_inp[0]) + \"over an interest rate of\" + str(data_inp[1]) + \"will be\"+str(p_total_fut + data_inp[0]))"
   ]
  },
  {
   "cell_type": "markdown",
   "metadata": {},
   "source": [
    "# Euclidean distance "
   ]
  },
  {
   "cell_type": "code",
   "execution_count": 20,
   "metadata": {},
   "outputs": [
    {
     "name": "stdout",
     "output_type": "stream",
     "text": [
      "Enter Co-ordinate for X12\n",
      "Enter Co-ordinate for X24\n",
      "Enter Co-ordinate for Y14\n",
      "Enter Co-ordinate for Y24\n",
      "Distance Between two points(4.0,2.0)and(4.0,4.0)is2.0\n"
     ]
    }
   ],
   "source": [
    "data_line = [float(input(\"Enter Co-ordinate for X1\")),float(input(\"Enter Co-ordinate for X2\")),float(input(\"Enter Co-ordinate for Y1\")),float(input(\"Enter Co-ordinate for Y2\"))]\n",
    "print(\"Distance Between two points\"+\"(\"+str(data_line[1])+\",\"+str(data_line[0])+\")\"+\"and\"+\"(\"+str(data_line[3])+\",\"+str(data_line[2])+\")\"+\"is\"+str(((data_line[3] - data_line[2])**2 + (data_line[1] - data_line[0])**2)**0.5))"
   ]
  },
  {
   "cell_type": "markdown",
   "metadata": {},
   "source": [
    "# Feet to Centimeter Converter "
   ]
  },
  {
   "cell_type": "code",
   "execution_count": 21,
   "metadata": {},
   "outputs": [
    {
     "name": "stdout",
     "output_type": "stream",
     "text": [
      "Enter height in feet5\n",
      "There are152.4Cmin5.0Ft\n"
     ]
    }
   ],
   "source": [
    "feet = float(input(\"Enter height in feet\"))\n",
    "print(\"There are\"+ str(feet* 30.48) +\"Cm\"+\"in\"+str(feet)+\"Ft\")"
   ]
  },
  {
   "cell_type": "markdown",
   "metadata": {},
   "source": [
    "# BMI Calculator"
   ]
  },
  {
   "cell_type": "code",
   "execution_count": 25,
   "metadata": {},
   "outputs": [
    {
     "name": "stdout",
     "output_type": "stream",
     "text": [
      "Enter Height in Cm180\n",
      "Enter Weight in Kg75\n",
      "Your bmi is23.148148148148145\n"
     ]
    }
   ],
   "source": [
    "data_bmi = [float(input(\"Enter Height in Cm\")),float(input(\"Enter Weight in Kg\"))]\n",
    "print(\"Your bmi is\"+str(data_bmi[1] / (data_bmi[0]/100)**2))"
   ]
  },
  {
   "cell_type": "markdown",
   "metadata": {},
   "source": [
    "# Sum of n Positive Integers"
   ]
  },
  {
   "cell_type": "code",
   "execution_count": 31,
   "metadata": {},
   "outputs": [
    {
     "name": "stdout",
     "output_type": "stream",
     "text": [
      "Enter Value of N 5\n",
      "15\n"
     ]
    }
   ],
   "source": [
    "sum_n = print(sum(list(range(int(input(\"Enter Value of N \"))+1))))"
   ]
  },
  {
   "cell_type": "markdown",
   "metadata": {},
   "source": [
    "# Digits Sum of a Number"
   ]
  },
  {
   "cell_type": "code",
   "execution_count": 35,
   "metadata": {},
   "outputs": [
    {
     "name": "stdout",
     "output_type": "stream",
     "text": [
      "Enter Number1234\n"
     ]
    },
    {
     "data": {
      "text/plain": [
       "10"
      ]
     },
     "execution_count": 35,
     "metadata": {},
     "output_type": "execute_result"
    }
   ],
   "source": [
    "sum(map(int, str(input(\"Enter Number\"))))"
   ]
  },
  {
   "cell_type": "markdown",
   "metadata": {},
   "source": [
    "# Decimal to Binary Converter"
   ]
  },
  {
   "cell_type": "code",
   "execution_count": 15,
   "metadata": {},
   "outputs": [
    {
     "name": "stdout",
     "output_type": "stream",
     "text": [
      "Enter Decimal Number190\n",
      "Binary Representation of is 10111110\n"
     ]
    }
   ],
   "source": [
    "bin_number = bin(int(input(\"Enter Decimal Number\"))).replace(\"0b\",\"\")\n",
    "print(\"Binary Representationis \"+ (bin_number))"
   ]
  },
  {
   "cell_type": "markdown",
   "metadata": {},
   "source": [
    "# Binary to Decimal Converter"
   ]
  },
  {
   "cell_type": "code",
   "execution_count": 10,
   "metadata": {},
   "outputs": [
    {
     "name": "stdout",
     "output_type": "stream",
     "text": [
      "Enter Binary Number 10\n",
      "Decimal Representation is 2\n"
     ]
    }
   ],
   "source": [
    "dec=int(input(\"Enter Binary Number \"),2)\n",
    "print(\"Decimal Representation is \"+str(dec))"
   ]
  },
  {
   "cell_type": "markdown",
   "metadata": {},
   "source": [
    "# Vowel and Consonants Counter "
   ]
  },
  {
   "cell_type": "code",
   "execution_count": 3,
   "metadata": {},
   "outputs": [
    {
     "name": "stdout",
     "output_type": "stream",
     "text": [
      "Enter Sentencequick\n",
      "Vowels: 2\n",
      "Consonants:3\n"
     ]
    }
   ],
   "source": [
    "v = 0\n",
    "c = 0\n",
    "vowels = ['a','A','e','E','i','I','o','O','u','U']\n",
    "sentance = input(\"Enter Sentence\")\n",
    "\n",
    "for a in sentance:\n",
    "    if a in vowels:\n",
    "        v=v+1\n",
    "        \n",
    "print(\"Vowels: \"+ str(v))\n",
    "print(\"Consonants:\"+str(len(sentance)-v))\n",
    "    \n",
    "        \n"
   ]
  },
  {
   "cell_type": "markdown",
   "metadata": {},
   "source": [
    "# Palindrome tester "
   ]
  },
  {
   "cell_type": "code",
   "execution_count": 19,
   "metadata": {},
   "outputs": [
    {
     "name": "stdout",
     "output_type": "stream",
     "text": [
      "Enter Textmalayalam\n",
      "is Palindrome\n"
     ]
    }
   ],
   "source": [
    "orignal_string = input(\"Enter Text\")\n",
    "if orignal_string == ''.join(list(reversed(orignal_string))):\n",
    "    print(\"is Palindrome\")\n",
    "    \n",
    "else:\n",
    "    print(\"is not Palindrome\")\n",
    "\n"
   ]
  },
  {
   "cell_type": "markdown",
   "metadata": {},
   "source": [
    "# Count Alphabets, Numbers and Special Characters"
   ]
  },
  {
   "cell_type": "code",
   "execution_count": 58,
   "metadata": {},
   "outputs": [
    {
     "name": "stdout",
     "output_type": "stream",
     "text": [
      "Enter TextHello world @132 . sd\n",
      "Alphabets :  12\n",
      "Digits :  3\n",
      "Special :  2\n",
      "Spaces :  4\n"
     ]
    }
   ],
   "source": [
    "text = input(\"Enter Text\")\n",
    "alphabets = digits = special = spaces= 0\n",
    "for e in text:\n",
    "    if e.isalpha():\n",
    "        alphabets = alphabets + 1\n",
    "        \n",
    "    elif e.isdigit():\n",
    "        digits = digits + 1\n",
    "    elif e == ' ':\n",
    "        spaces = spaces + 1\n",
    "    else:\n",
    "        special = special + 1\n",
    "\n",
    "print(\"Alphabets : \",alphabets)\n",
    "print(\"Digits : \",digits)\n",
    "print(\"Special : \",special)\n",
    "print(\"Spaces : \",spaces)\n",
    "        "
   ]
  },
  {
   "cell_type": "markdown",
   "metadata": {},
   "source": [
    "# Write a Python program to construct the following pattern"
   ]
  },
  {
   "cell_type": "code",
   "execution_count": 96,
   "metadata": {},
   "outputs": [
    {
     "name": "stdout",
     "output_type": "stream",
     "text": [
      "\n",
      "\n",
      "*\n",
      "\n",
      "**\n",
      "\n",
      "***\n",
      "\n",
      "****\n",
      "\n",
      "*****\n",
      "\n",
      "****\n",
      "\n",
      "***\n",
      "\n",
      "**\n",
      "\n",
      "*\n",
      "\n"
     ]
    }
   ],
   "source": [
    "for i in range(5):\n",
    "    for j in range(i):\n",
    "        print(\"*\", end=\"\")\n",
    "    print('\\n')\n",
    "for i in range(5,0,-1):\n",
    "    for l in range(i):\n",
    "        print(\"*\",end=\"\")\n",
    "    print('\\n')"
   ]
  },
  {
   "cell_type": "markdown",
   "metadata": {},
   "source": [
    "# Write a Python program to construct the following pattern"
   ]
  },
  {
   "cell_type": "code",
   "execution_count": 95,
   "metadata": {},
   "outputs": [
    {
     "name": "stdout",
     "output_type": "stream",
     "text": [
      "\n",
      "\n",
      "1\n",
      "\n",
      "12\n",
      "\n",
      "123\n",
      "\n",
      "1234\n",
      "\n",
      "12345\n",
      "\n",
      "1234\n",
      "\n",
      "123\n",
      "\n",
      "12\n",
      "\n",
      "1\n",
      "\n"
     ]
    }
   ],
   "source": [
    "for i in range(5):\n",
    "    for j in range(i):\n",
    "        print(j+1, end=\"\")\n",
    "    print('\\n')\n",
    "for i in range(5,0,-1):\n",
    "    for l in range(i):\n",
    "        print(l+1,end=\"\")\n",
    "    print('\\n')"
   ]
  },
  {
   "cell_type": "markdown",
   "metadata": {},
   "source": [
    "# Write a Python program to construct the following pattern"
   ]
  },
  {
   "cell_type": "code",
   "execution_count": 105,
   "metadata": {},
   "outputs": [
    {
     "name": "stdout",
     "output_type": "stream",
     "text": [
      "\n",
      "\n",
      "1\n",
      "\n",
      "22\n",
      "\n",
      "333\n",
      "\n",
      "4444\n",
      "\n",
      "55555\n",
      "\n",
      "666666\n",
      "\n",
      "7777777\n",
      "\n",
      "88888888\n",
      "\n",
      "999999999\n",
      "\n"
     ]
    }
   ],
   "source": [
    "for i in range(10):\n",
    "    for j in range(i):\n",
    "        print(i, end=\"\")\n",
    "    print('\\n')"
   ]
  }
 ],
 "metadata": {
  "kernelspec": {
   "display_name": "Python 3",
   "language": "python",
   "name": "python3"
  }
 },
 "nbformat": 4,
 "nbformat_minor": 2
}
